{
 "cells": [
  {
   "cell_type": "markdown",
   "metadata": {},
   "source": [
    "# Simulación: Picas y Fijas"
   ]
  },
  {
   "cell_type": "markdown",
   "metadata": {},
   "source": [
    "##### Douglas Andrés Ramírez Brujés - 2150436\n",
    "###### Marianne Solangel Rojas Robles - 2150286"
   ]
  },
  {
   "cell_type": "code",
   "execution_count": 1,
   "metadata": {
    "collapsed": true
   },
   "outputs": [],
   "source": [
    "import random\n",
    "import itertools as it\n",
    "import numpy as np\n",
    "import pandas as pd\n",
    "import matplotlib.pyplot as plt\n",
    "%matplotlib inline\n",
    "pd.__version__\n",
    "\n",
    "numeros = ('0', '1', '2', '3', '4', '5', '6', '7', '8', '9')"
   ]
  },
  {
   "cell_type": "markdown",
   "metadata": {},
   "source": [
    "### Métodos"
   ]
  },
  {
   "cell_type": "code",
   "execution_count": 2,
   "metadata": {
    "collapsed": true
   },
   "outputs": [],
   "source": [
    "#Define un codigo de n cifras no repetidas al azar\n",
    "def crearCod(n):\n",
    "    codigo = ''\n",
    "    for i in range (n):\n",
    "        num_elegido = random.choice(numeros)\n",
    "        while num_elegido in codigo:\n",
    "            num_elegido = random.choice(numeros)\n",
    "        codigo = codigo + num_elegido\n",
    "    return codigo\n",
    "\n",
    "#Escoje una opción random de una lista de iteraciones\n",
    "def elejirProp(codigo, listado):\n",
    "    return random.choice(listado)\n",
    "\n",
    "#Crea lista con todas las iteraciones de n cifras en numeros()\n",
    "def crearComb(n): \n",
    "    return [''.join(i) for i in it.permutations(numeros,n)]\n",
    "\n",
    "#revisa las picas y fijas entre codigo y prop\n",
    "def comprobar(codigo, prop):\n",
    "    picas, fijas = 0, 0\n",
    "    for j in range(len(codigo)):\n",
    "        if(prop[j] == codigo[j]):\n",
    "            fijas += 1\n",
    "        elif prop[j] in codigo:\n",
    "            picas += 1\n",
    "    return (picas, fijas)"
   ]
  },
  {
   "cell_type": "markdown",
   "metadata": {},
   "source": [
    "### Juega con el usuario: Usuario adivina el número"
   ]
  },
  {
   "cell_type": "code",
   "execution_count": 14,
   "metadata": {},
   "outputs": [
    {
     "name": "stdout",
     "output_type": "stream",
     "text": [
      "Escoja una cifra de 4 cifras no repetidas\n",
      "0000\n",
      "Decepcionante. El código es:7509\n"
     ]
    }
   ],
   "source": [
    "codigo = crearCod(4)\n",
    "intentos = 0\n",
    "fijas = 0\n",
    "#print('Número a adivinar: %s' % codigo)\n",
    "while (fijas != len(codigo)):\n",
    "    print('Escoja una cifra de %s cifras no repetidas' % len(codigo))\n",
    "    #prop = raw_input() #Python 2\n",
    "    prop = str(input()) #Python 3\n",
    "    prop = str(prop)\n",
    "    if(prop==\"0000\"):\n",
    "        break\n",
    "    picas, fijas = comprobar(codigo, prop)\n",
    "    intentos = intentos+1\n",
    "    print('Tu propuesta', prop, 'tiene', picas, 'picas y', fijas, 'fijas')\n",
    "if(prop!=\"0000\"):\n",
    "    print('Felicidades. El número es:%s. Intentos:%i' % (codigo, intentos))\n",
    "else:\n",
    "    print('Decepcionante. El código es:%s'%codigo)"
   ]
  },
  {
   "cell_type": "markdown",
   "metadata": {},
   "source": [
    "### Juega contra el computador: El computador adivinará el número"
   ]
  },
  {
   "cell_type": "code",
   "execution_count": 5,
   "metadata": {},
   "outputs": [
    {
     "name": "stdout",
     "output_type": "stream",
     "text": [
      "Escoja un número para que el computador lo adivine:\n",
      "1234\n",
      "\n",
      "Si le da pereza pensar, el número de picas y fijas es, respectivamente: (1, 0)\n",
      "Supongo que el número es: 6359\n",
      "¿Cuántas picas obtuve, humano?\n",
      "1\n",
      "¿Cuántas fijas obtuve, humano?\n",
      "0\n",
      "\n",
      "Si le da pereza pensar, el número de picas y fijas es, respectivamente: (1, 0)\n",
      "Supongo que el número es: 0792\n",
      "¿Cuántas picas obtuve, humano?\n",
      "1\n",
      "¿Cuántas fijas obtuve, humano?\n",
      "0\n",
      "\n",
      "Si le da pereza pensar, el número de picas y fijas es, respectivamente: (1, 0)\n",
      "Supongo que el número es: 4085\n",
      "¿Cuántas picas obtuve, humano?\n",
      "1\n",
      "¿Cuántas fijas obtuve, humano?\n",
      "0\n",
      "\n",
      "Si le da pereza pensar, el número de picas y fijas es, respectivamente: (1, 2)\n",
      "Supongo que el número es: 1246\n",
      "¿Cuántas picas obtuve, humano?\n",
      "1\n",
      "¿Cuántas fijas obtuve, humano?\n",
      "2\n",
      "\n",
      "Si le da pereza pensar, el número de picas y fijas es, respectivamente: (2, 0)\n",
      "Supongo que el número es: 7146\n",
      "¿Cuántas picas obtuve, humano?\n",
      "2\n",
      "¿Cuántas fijas obtuve, humano?\n",
      "0\n",
      "\n",
      "Si le da pereza pensar, el número de picas y fijas es, respectivamente: (0, 4)\n",
      "Supongo que el número es: 1234\n",
      "¿Cuántas picas obtuve, humano?\n",
      "0\n",
      "¿Cuántas fijas obtuve, humano?\n",
      "4\n",
      "\n",
      "Tal parece que gané en 6 intentos, fácil.\n"
     ]
    }
   ],
   "source": [
    "print('Escoja un número para que el computador lo adivine:')\n",
    "codigo = str(input())\n",
    "def adivinaPausado():    \n",
    "    listado = crearComb(4)\n",
    "    intentos = 0\n",
    "    picas,fijas = 0,0\n",
    "    while(fijas != len(codigo)):\n",
    "        prop = elejirProp(codigo,listado)\n",
    "        print (\"\\nSi le da pereza pensar, el número de picas y fijas es, respectivamente: \"+str(comprobar(codigo,prop)))\n",
    "        print (\"Supongo que el número es: \"+prop)\n",
    "        print (\"¿Cuántas picas obtuve, humano?\")\n",
    "        picas = int(input())\n",
    "        print (\"¿Cuántas fijas obtuve, humano?\")\n",
    "        fijas = int(input())        \n",
    "        listado = [i for i in listado if comprobar(i, prop) == (picas,fijas)]\n",
    "        intentos+=1\n",
    "    print(\"\\nTal parece que gané en \"+str(intentos)+\" intentos, fácil.\")\n",
    "adivinaPausado()"
   ]
  },
  {
   "cell_type": "markdown",
   "metadata": {},
   "source": [
    "### Modo simulación"
   ]
  },
  {
   "cell_type": "markdown",
   "metadata": {},
   "source": [
    "#### Una vez"
   ]
  },
  {
   "cell_type": "code",
   "execution_count": 4,
   "metadata": {},
   "outputs": [
    {
     "name": "stdout",
     "output_type": "stream",
     "text": [
      "\n",
      "Respuesta: 7653\n",
      "Intentos: 6\n"
     ]
    }
   ],
   "source": [
    "def adivina():\n",
    "    n, intentos = 4, 0\n",
    "    picas, fijas = 0, 0\n",
    "    listado = crearComb(n)\n",
    "    codigo = crearCod(n)\n",
    "    #print('Número a adivinar: %s' % codigo)\n",
    "    while(fijas != n):\n",
    "        prop = elejirProp(codigo, listado)\n",
    "        picas, fijas = comprobar(codigo, prop)\n",
    "        listado = [i for i in listado if comprobar(i, prop) == comprobar(codigo, prop)]\n",
    "        #print('%i. El numero propuesto es %s y tiene %i picas y %i fijas.' % (intentos, prop, picas, fijas))\n",
    "        intentos += 1\n",
    "    #print('\\nEl numero es %s y se adivinó en %i intentos.' % (prop, intentos))\n",
    "    return prop, intentos\n",
    "\n",
    "print('\\nRespuesta: %s\\nIntentos: %s' % adivina())"
   ]
  },
  {
   "cell_type": "markdown",
   "metadata": {},
   "source": [
    "#### Varias veces"
   ]
  },
  {
   "cell_type": "code",
   "execution_count": 6,
   "metadata": {},
   "outputs": [
    {
     "name": "stdout",
     "output_type": "stream",
     "text": [
      "          Cantidad\n",
      "Intentos          \n",
      "3                8\n",
      "4               10\n",
      "5               39\n",
      "6               28\n",
      "7               11\n",
      "Total:          100\n",
      "\n",
      "Promedio de intentos: 5.360 \n",
      "\n"
     ]
    },
    {
     "data": {
      "image/png": "[encoded data removed]",
      "text/plain": [
       "<matplotlib.figure.Figure at 0xac115f8>"
      ]
     },
     "metadata": {},
     "output_type": "display_data"
    }
   ],
   "source": [
    "inten = []\n",
    "for i in range(100):\n",
    "    respuesta, intentos = adivina()\n",
    "    inten.append(intentos)\n",
    "    \n",
    "intenIndex = [i for i in range(np.array(inten).max()) if i in inten]\n",
    "cantidad = [inten.count(i) for i in intenIndex]\n",
    "tablaResultados = pd.DataFrame({'Intentos':intenIndex, 'Cantidad':cantidad})\n",
    "tabla = tablaResultados.groupby('Intentos').agg('max')\n",
    "\n",
    "print(tabla)\n",
    "print('Total:          %i\\n' % len(inten))\n",
    "print('Promedio de intentos: %.3f \\n' % (np.mean(np.array(inten))))\n",
    "\n",
    "plt.figure(figsize=(10,10))\n",
    "ax1 = plt.subplot(122, aspect='equal')\n",
    "tablaResultados.plot(kind='pie', y = 'Cantidad', ax=ax1, autopct='%1.1f%%', \n",
    " startangle=90, shadow=False, labels=tablaResultados['Intentos'], legend = False, fontsize=12);"
   ]
  },
  {
   "cell_type": "code",
   "execution_count": null,
   "metadata": {
    "collapsed": true
   },
   "outputs": [],
   "source": []
  }
 ],
 "metadata": {
  "kernelspec": {
   "display_name": "Python 3",
   "language": "python",
   "name": "python3"
  },
  "language_info": {
   "codemirror_mode": {
    "name": "ipython",
    "version": 3
   },
   "file_extension": ".py",
   "mimetype": "text/x-python",
   "name": "python",
   "nbconvert_exporter": "python",
   "pygments_lexer": "ipython3",
   "version": "3.6.3"
  }
 },
 "nbformat": 4,
 "nbformat_minor": 2
}
