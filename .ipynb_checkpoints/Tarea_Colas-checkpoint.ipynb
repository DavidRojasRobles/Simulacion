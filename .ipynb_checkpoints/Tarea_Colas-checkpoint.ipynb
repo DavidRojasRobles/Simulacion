{
 "cells": [
  {
   "cell_type": "markdown",
   "metadata": {},
   "source": [
    "# Round Robin:\n",
    "\n",
    "Este rograma que simula la ejecución de n procesos en un procesador de un solo núcleo en el que es posible establecer el quantum (en segundos) y el tiempo que demora cada proceso es un aleatorio entre 1 y 100 (segundos). Este muestra el tiempo de cada proceso, los turnos de atención en el procesador y el número de turnos totales."
   ]
  },
  {
   "cell_type": "markdown",
   "metadata": {},
   "source": [
    "## Propósito\n",
    "\n"
   ]
  },
  {
   "cell_type": "code",
   "execution_count": 2,
   "metadata": {},
   "outputs": [],
   "source": [
    "import numpy as np\n",
    "\n",
    "class Proceso:\n",
    "    #IdProc = 0\n",
    "    def __init__(self, i, tiempo, estado):\n",
    "        #Proceso.IdProc += 1\n",
    "        #self.IdProc = Proceso.IdProc\n",
    "        self.IdProc = i\n",
    "        self.tiempo = tiempo\n",
    "\n",
    "    def getIdProc(self):\n",
    "        return self.IdProc\n",
    "\n",
    "    def setTiempo(self, tiempo):\n",
    "        self.tiempo = tiempo\n",
    "\n",
    "    def getTiempo(self):\n",
    "        return self.tiempo\n",
    "\n",
    "    def ejecutar(self, q):\n",
    "        temp = self.tiempo\n",
    "        self.tiempo -= q\n",
    "        if self.tiempo < 0:\n",
    "            self.tiempo = 0\n",
    "            return temp\n",
    "        else:\n",
    "            return q\n",
    "\n",
    "class RoundRobin:\n",
    "    def __init__(self, quantum, numProc):\n",
    "        self.quantum = quantum\n",
    "        self.numProc = numProc\n",
    "        self.tiempoTotal = 0\n",
    "\n",
    "    def crearProceso(self, i):\n",
    "        p = Proceso(i, np.random.randint(1,100), True)\n",
    "        print \"Proceso %d --> Tiempo = %d\"%(p.getIdProc(), p.getTiempo())\n",
    "        return p\n",
    "\n",
    "    def crearCola(self):\n",
    "        self.cola = Cola()\n",
    "        for i in range(self.numProc):\n",
    "            self.cola.agregar(self.crearProceso(i+1))\n",
    "\n",
    "    def procesar(self):\n",
    "        self.crearCola()\n",
    "        print \"\\nProceso \\t T. restante \\t Total\"\n",
    "        turnos = 0\n",
    "        while self.cola.estaVacia() == False:\n",
    "            turnos += 1\n",
    "            q = self.cola.getFirst().ejecutar(self.quantum)\n",
    "            self.tiempoTotal += q\n",
    "            print \"%d \\t\\t %d \\t\\t %d\"%(self.cola.getFirst().getIdProc(), self.cola.getFirst().getTiempo(), self.tiempoTotal)\n",
    "\n",
    "            if self.cola.getFirst().tiempo > 0:\n",
    "                self.cola.agregar(self.cola.getFirst())\n",
    "\n",
    "            self.cola.avanzar();\n",
    "\n",
    "        return turnos\n",
    "\n",
    "class Cola:\n",
    "    count = -1\n",
    "    def __init__(self):\n",
    "        self.items = []\n",
    "\n",
    "    def getFirst(self):\n",
    "        return self.items[0]\n",
    "\n",
    "\n",
    "    def getItems(self):\n",
    "        return self.items\n",
    "\n",
    "    def getItem(self, ix):\n",
    "        return self.items[ix]\n",
    "\n",
    "    def estaVacia(self):\n",
    "        if Cola.count < 0:\n",
    "            return True\n",
    "        else:\n",
    "            return False\n",
    "\n",
    "    def agregar(self, item):\n",
    "        Cola.count += 1\n",
    "        self.items.append(item)\n",
    "\n",
    "    def avanzar(self):\n",
    "        Cola.count -= 1\n",
    "        return self.items.pop(0)\n",
    "\n",
    "    def tamano(self):\n",
    "        return len(self.items)\n"
   ]
  },
  {
   "cell_type": "code",
   "execution_count": 3,
   "metadata": {},
   "outputs": [
    {
     "name": "stdout",
     "output_type": "stream",
     "text": [
      "Cuantos procesos?3\n",
      "Cual es la duracion del quantum?20\n",
      "Proceso 1 --> Tiempo = 95\n",
      "Proceso 2 --> Tiempo = 2\n",
      "Proceso 3 --> Tiempo = 6\n",
      "\n",
      "Proceso \t T. restante \t Total\n",
      "1 \t\t 75 \t\t 20\n",
      "2 \t\t 0 \t\t 22\n",
      "3 \t\t 0 \t\t 28\n",
      "1 \t\t 55 \t\t 48\n",
      "1 \t\t 35 \t\t 68\n",
      "1 \t\t 15 \t\t 88\n",
      "1 \t\t 0 \t\t 103\n",
      "Se completo en un total de 7 turnos\n"
     ]
    }
   ],
   "source": [
    "n = int(raw_input('Cuantos procesos?'))\n",
    "q = int(raw_input('Cual es la duracion del quantum?'))\n",
    "\n",
    "turnos = RoundRobin(q, n).procesar()\n",
    "print \"Se completo en un total de %d turnos\"%(turnos)\n",
    "print \"Tiempo total por proceso:\""
   ]
  },
  {
   "cell_type": "code",
   "execution_count": null,
   "metadata": {},
   "outputs": [],
   "source": []
  }
 ],
 "metadata": {
  "kernelspec": {
   "display_name": "Python 2",
   "language": "python",
   "name": "python2"
  },
  "language_info": {
   "codemirror_mode": {
    "name": "ipython",
    "version": 2
   },
   "file_extension": ".py",
   "mimetype": "text/x-python",
   "name": "python",
   "nbconvert_exporter": "python",
   "pygments_lexer": "ipython2",
   "version": "2.7.14"
  }
 },
 "nbformat": 4,
 "nbformat_minor": 2
}
