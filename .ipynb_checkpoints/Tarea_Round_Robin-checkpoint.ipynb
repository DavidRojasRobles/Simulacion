{
 "cells": [
  {
   "cell_type": "markdown",
   "metadata": {},
   "source": [
    "### Por: Marianne Solangel Rojas Robles - 2150286"
   ]
  },
  {
   "cell_type": "markdown",
   "metadata": {},
   "source": [
    "# Round Robin:\n",
    "\n",
    "Este programa que simula la ejecución de n procesos en un procesador de un solo núcleo mediante el algoritmo Round Robin, en el que es posible establecer el quantum (en segundos) y el tiempo que demora cada proceso es un aleatorio entre 1 y 100 (segundos). Este muestra el tiempo de cada proceso, los turnos de atención en el procesador y el número de turnos totales."
   ]
  },
  {
   "cell_type": "markdown",
   "metadata": {},
   "source": [
    "## Propósito\n",
    "\n",
    "Un sistema de monoprogramación puede atender a un único proceso en determinado tiempo. Con el fin de emular multiprogramación con un sólo procesador es necesario porcionar el tiempo de CPU en un tamaño determinado llamado quantum y atender un proceso únicamente durante el quantum, a cuya terminación el programa es interrumpido y se atiende el siguiente proceso. Este procedimiento se repite hasta que se finalicen todos los procesos.\n",
    "\n",
    "En algunos sistemas operativos es posible atender a los distintos procesos asignándoles prioridad a partir del tiempo de CPU que requieren para ser culminados, brindando la mayor prioridad a los procesos más <i>pequeños</i>, para evitar la inanición. Sin embargo, el algoritmo Round Robin hace posible esta emulación de multiprogramación sin la necesidad de asignar prioridad a ninguno de los procesos, sin riesgo de inanición.\n",
    "\n",
    "Este programa se realizó con el fin de ilustrar el funcionamiento del algoritmo Round Robin, mostrando la forma en que se maneja la atención de todos los procesos mediante turnos y el tiempo total de procesamiento.\n"
   ]
  },
  {
   "cell_type": "markdown",
   "metadata": {},
   "source": [
    "## Programa\n",
    "\n",
    "#### Diagrama Flujo Nivel\n",
    "\n",
    "<img src=\"./colas_flujo_nivel.PNG\" style=\"width:700px;\">"
   ]
  },
  {
   "cell_type": "code",
   "execution_count": 5,
   "metadata": {},
   "outputs": [],
   "source": [
    "resultados = []"
   ]
  },
  {
   "cell_type": "code",
   "execution_count": 6,
   "metadata": {},
   "outputs": [],
   "source": [
    "import numpy as np\n",
    "\n",
    "class Proceso:\n",
    "    #IdProc = 0\n",
    "    def __init__(self, i, tiempo, estado):\n",
    "        self.IdProc = i\n",
    "        self.tiempo = tiempo\n",
    "\n",
    "    def getIdProc(self):\n",
    "        return self.IdProc\n",
    "\n",
    "    def setTiempo(self, tiempo):\n",
    "        self.tiempo = tiempo\n",
    "\n",
    "    def getTiempo(self):\n",
    "        return self.tiempo\n",
    "\n",
    "    def ejecutar(self, q):\n",
    "        temp = self.tiempo\n",
    "        self.tiempo -= q\n",
    "        if self.tiempo < 0:\n",
    "            self.tiempo = 0\n",
    "            return temp\n",
    "        else:\n",
    "            return q\n",
    "\n",
    "class RoundRobin:\n",
    "    def __init__(self, quantum, numProc):\n",
    "        self.quantum = quantum\n",
    "        self.numProc = numProc\n",
    "        self.tiempoTotal = 0\n",
    "        self.tupla = []\n",
    "        resultados.append(self.tupla)\n",
    "\n",
    "    def crearProceso(self, i):\n",
    "        p = Proceso(i, np.random.randint(1,100), True)\n",
    "        print \"Proceso %d --> Tiempo = %d\"%(p.getIdProc(), p.getTiempo())\n",
    "        self.tupla.append(p.getTiempo())\n",
    "        return p\n",
    "\n",
    "    def crearCola(self):\n",
    "        self.cola = Cola()\n",
    "        for i in range(self.numProc):\n",
    "            self.cola.agregar(self.crearProceso(i+1))\n",
    "\n",
    "    def procesar(self):\n",
    "        self.crearCola()\n",
    "        print \"\\nProceso \\t T. restante \\t Total\"\n",
    "        turnos = 0\n",
    "        while self.cola.estaVacia() == False:\n",
    "            turnos += 1\n",
    "            q = self.cola.getFirst().ejecutar(self.quantum)\n",
    "            self.tiempoTotal += q\n",
    "            print \"%d \\t\\t %d \\t\\t %d\"%(self.cola.getFirst().getIdProc(), self.cola.getFirst().getTiempo(), self.tiempoTotal)\n",
    "\n",
    "            if self.cola.getFirst().tiempo > 0:\n",
    "                self.cola.agregar(self.cola.getFirst())\n",
    "\n",
    "            self.cola.avanzar();\n",
    "\n",
    "        self.tupla.append(turnos)\n",
    "        return turnos\n",
    "\n",
    "class Cola:\n",
    "    count = -1\n",
    "    def __init__(self):\n",
    "        self.items = []\n",
    "\n",
    "    def getFirst(self):\n",
    "        return self.items[0]\n",
    "\n",
    "\n",
    "    def getItems(self):\n",
    "        return self.items\n",
    "\n",
    "    def getItem(self, ix):\n",
    "        return self.items[ix]\n",
    "\n",
    "    def estaVacia(self):\n",
    "        if Cola.count < 0:\n",
    "            return True\n",
    "        else:\n",
    "            return False\n",
    "\n",
    "    def agregar(self, item):\n",
    "        Cola.count += 1\n",
    "        self.items.append(item)\n",
    "\n",
    "    def avanzar(self):\n",
    "        Cola.count -= 1\n",
    "        return self.items.pop(0)\n",
    "\n",
    "    def tamano(self):\n",
    "        return len(self.items)\n"
   ]
  },
  {
   "cell_type": "code",
   "execution_count": null,
   "metadata": {},
   "outputs": [],
   "source": [
    "n = int(raw_input('Cuantos procesos?\\t'))\n",
    "q = int(raw_input('Cual es la duracion del quantum?\\t'))\n",
    "\n",
    "turnos = RoundRobin(q, n).procesar()\n",
    "print \"Se completo en un total de %d turnos\\n\"%(turnos)"
   ]
  },
  {
   "cell_type": "markdown",
   "metadata": {},
   "source": [
    "## Resultado\n",
    "\n",
    "Con el propósito de evaluar el funcionamiento de este programa se tomaron únicamente 2 procesos, con un quantum fijo de 20, y se realizaron 50 pruebas, donde el tiempo de cada uno de los procesos (que es asignado aliatoreamente) y el número de turnos totales se registraron en la lista <b>resultados</b>."
   ]
  },
  {
   "cell_type": "code",
   "execution_count": 12,
   "metadata": {},
   "outputs": [
    {
     "name": "stdout",
     "output_type": "stream",
     "text": [
      "Proceso 1 --> Tiempo = 5\n",
      "Proceso 2 --> Tiempo = 79\n",
      "\n",
      "Proceso \t T. restante \t Total\n",
      "1 \t\t 0 \t\t 5\n",
      "2 \t\t 59 \t\t 25\n",
      "2 \t\t 39 \t\t 45\n",
      "2 \t\t 19 \t\t 65\n",
      "2 \t\t 0 \t\t 84\n",
      "Se completo en un total de 5 turnos\n",
      "\n"
     ]
    }
   ],
   "source": [
    "from IPython.display import clear_output\n",
    "n = 2 #int(raw_input('Cuantos procesos?\\t'))\n",
    "q = 20 #int(raw_input('Cual es la duracion del quantum?\\t'))\n",
    "for i in range(50):\n",
    "    clear_output() #Asegura que únicamente el último test se muestre \n",
    "    turnos = RoundRobin(q, n).procesar()\n",
    "    print \"Se completo en un total de %d turnos\\n\"%(turnos)"
   ]
  },
  {
   "cell_type": "code",
   "execution_count": 22,
   "metadata": {},
   "outputs": [
    {
     "data": {
      "text/html": [
       "<div>\n",
       "<style scoped>\n",
       "    .dataframe tbody tr th:only-of-type {\n",
       "        vertical-align: middle;\n",
       "    }\n",
       "\n",
       "    .dataframe tbody tr th {\n",
       "        vertical-align: top;\n",
       "    }\n",
       "\n",
       "    .dataframe thead th {\n",
       "        text-align: right;\n",
       "    }\n",
       "</style>\n",
       "<table border=\"1\" class=\"dataframe\">\n",
       "  <thead>\n",
       "    <tr style=\"text-align: right;\">\n",
       "      <th></th>\n",
       "      <th>Proc_1</th>\n",
       "      <th>Proc_2</th>\n",
       "      <th>Turnos</th>\n",
       "    </tr>\n",
       "  </thead>\n",
       "  <tbody>\n",
       "    <tr>\n",
       "      <th>0</th>\n",
       "      <td>30</td>\n",
       "      <td>92</td>\n",
       "      <td>7</td>\n",
       "    </tr>\n",
       "    <tr>\n",
       "      <th>1</th>\n",
       "      <td>97</td>\n",
       "      <td>83</td>\n",
       "      <td>10</td>\n",
       "    </tr>\n",
       "    <tr>\n",
       "      <th>2</th>\n",
       "      <td>38</td>\n",
       "      <td>11</td>\n",
       "      <td>3</td>\n",
       "    </tr>\n",
       "    <tr>\n",
       "      <th>3</th>\n",
       "      <td>61</td>\n",
       "      <td>74</td>\n",
       "      <td>8</td>\n",
       "    </tr>\n",
       "    <tr>\n",
       "      <th>4</th>\n",
       "      <td>78</td>\n",
       "      <td>36</td>\n",
       "      <td>6</td>\n",
       "    </tr>\n",
       "  </tbody>\n",
       "</table>\n",
       "</div>"
      ],
      "text/plain": [
       "   Proc_1  Proc_2  Turnos\n",
       "0      30      92       7\n",
       "1      97      83      10\n",
       "2      38      11       3\n",
       "3      61      74       8\n",
       "4      78      36       6"
      ]
     },
     "execution_count": 22,
     "metadata": {},
     "output_type": "execute_result"
    }
   ],
   "source": [
    "import pandas as pd\n",
    "#print np.array(resultados)[:10]\n",
    "df = pd.DataFrame(np.array(resultados), columns=['Proc_1', 'Proc_2', 'Turnos'])\n",
    "df.head()"
   ]
  },
  {
   "cell_type": "code",
   "execution_count": 14,
   "metadata": {},
   "outputs": [
    {
     "name": "stdout",
     "output_type": "stream",
     "text": [
      "Proceso 1 min y max: 1, 98\n",
      "Proceso 2 min y max: 1, 99\n",
      "Tiempo total promedio: 102.580\n",
      "Proceso 1 promedio: 51.120\n",
      "Proceso 2 promedio: 51.290\n",
      "Turnos promedio: 5.970\n"
     ]
    }
   ],
   "source": [
    "print ('Proceso 1 min y max: %d, %d')%(np.min([resultados[i][0] for i in range(len(resultados))]),np.max([resultados[i][0] for i in range(len(resultados))]))\n",
    "print ('Proceso 2 min y max: %d, %d')%(np.min([resultados[i][1] for i in range(len(resultados))]),np.max([resultados[i][1] for i in range(len(resultados))]))\n",
    "print ('Tiempo total promedio: %.3f')%(np.mean([[resultados[i][1] + resultados[i][1]] for i in range(len(resultados))]))\n",
    "print ('Proceso 1 promedio: %.3f')%(np.mean([resultados[i][0] for i in range(len(resultados))]))\n",
    "print ('Proceso 2 promedio: %.3f')%(np.mean([resultados[i][1] for i in range(len(resultados))]))\n",
    "print ('Turnos promedio: %.3f')%(np.mean([resultados[i][2] for i in range(len(resultados))]))"
   ]
  },
  {
   "cell_type": "markdown",
   "metadata": {},
   "source": [
    "Se pudo evidenciar que en ninguno de los test se generó inanición en ninguno de los procesos, y el tiempo de ejecución total corresponde a la suma de los tiempos individuales de cada proceso. Esto se puede observar más claramente en la siguiente gráfica, realizada para un test con un proceso de 150 y otro de 87, y un quantum de 20.\n",
    "<img src=\"./colas_grafica.PNG\" style=\"width:700px;\">"
   ]
  },
  {
   "cell_type": "markdown",
   "metadata": {},
   "source": [
    "## Conclusiones\n",
    "\n",
    "Se puede concluir que el algoritmo Round Robin permite emular la multiprogramación en un sistema de monoprogramación de manera sencilla, dividiendo el tiempo de CPU en un quantum determinado, al final del cual el proceso siendo ejecutado se interrumpe y se atiende el siguiente proceso, hasta que todos se hayan terminado."
   ]
  },
  {
   "cell_type": "markdown",
   "metadata": {},
   "source": [
    "## Fuentes de Información\n",
    "1. Tanenbaum, Andrew S. Sistemas Operativos Modernos, Tercera Ed. Pearson Educacion, Mexico, 2009.\n",
    "2. Stallings, William (2015). Operating Systems: Internals and Design Principles. Pearson. p. 409."
   ]
  },
  {
   "cell_type": "code",
   "execution_count": null,
   "metadata": {},
   "outputs": [],
   "source": []
  }
 ],
 "metadata": {
  "kernelspec": {
   "display_name": "Python 2",
   "language": "python",
   "name": "python2"
  },
  "language_info": {
   "codemirror_mode": {
    "name": "ipython",
    "version": 2
   },
   "file_extension": ".py",
   "mimetype": "text/x-python",
   "name": "python",
   "nbconvert_exporter": "python",
   "pygments_lexer": "ipython2",
   "version": "2.7.14"
  }
 },
 "nbformat": 4,
 "nbformat_minor": 2
}
